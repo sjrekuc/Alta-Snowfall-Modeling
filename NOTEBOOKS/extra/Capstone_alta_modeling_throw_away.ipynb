{
 "cells": [
  {
   "cell_type": "code",
   "execution_count": null,
   "metadata": {},
   "outputs": [],
   "source": [
    "# create a new entity set in featuretools\n",
    "#es7 = ft.EntitySet(id='X7')\n",
    "# This dataframe already has an index and a time index\n",
    "#es7 = es7.entity_from_dataframe(entity_id = 'X7', dataframe = X7, time_index = 'ds')\n",
    "\n",
    "# Run deep feature synthesis with transformation primitives\n",
    "#feature7_matrix, feature7_defs = ft.dfs(entityset = es7, target_entity = 'y')\n",
    "\n",
    "#feature7_matrix.head()\n",
    "\n",
    "\n",
    "# I'm going to save this feature tools until I understand it a little better and just run FB Prophet\n",
    "# https://stackoverflow.com/questions/52418152/featuretools-can-it-be-applied-on-a-single-table-to-generate-features-even-when\n",
    "# https://docs.featuretools.com/en/stable/automated_feature_engineering/afe.html\n",
    "# https://docs.featuretools.com/en/stable/api_reference.html#feature-encoding\n",
    "# https://docs.featuretools.com/en/stable/loading_data/using_entitysets.html\n",
    "# https://docs.featuretools.com/en/stable/automated_feature_engineering/handling_time.html\n",
    "# https://towardsdatascience.com/automated-feature-engineering-in-python-99baf11cc219"
   ]
  },
  {
   "cell_type": "code",
   "execution_count": null,
   "metadata": {},
   "outputs": [],
   "source": [
    "# let's take a log of the DF and see if anything changes in the PPS\n",
    "win_ds = win_st['ds']\n",
    "win_lg = np.log(np.absolute(win_st.drop('ds', axis=1))+1)\n",
    "win7_lg = pps.matrix(win_lg)\n",
    "fig, ax = plt.subplots(figsize=(20,20))\n",
    "_ = sns.heatmap(win7_lg, annot=True, ax=ax)"
   ]
  }
 ],
 "metadata": {
  "kernelspec": {
   "display_name": "Python 3",
   "language": "python",
   "name": "python3"
  },
  "language_info": {
   "codemirror_mode": {
    "name": "ipython",
    "version": 3
   },
   "file_extension": ".py",
   "mimetype": "text/x-python",
   "name": "python",
   "nbconvert_exporter": "python",
   "pygments_lexer": "ipython3",
   "version": "3.7.6"
  }
 },
 "nbformat": 4,
 "nbformat_minor": 4
}
