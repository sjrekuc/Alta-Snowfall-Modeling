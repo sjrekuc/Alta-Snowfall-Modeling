{
 "cells": [
  {
   "cell_type": "markdown",
   "metadata": {},
   "source": [
    "I wonder if there is any relation between the ratio of AMO and PDO to the snowfall. Let's see."
   ]
  },
  {
   "cell_type": "code",
   "execution_count": null,
   "metadata": {},
   "outputs": [],
   "source": [
    "hist = ALTA.hist(bins=25, figsize=(15,10))"
   ]
  },
  {
   "cell_type": "code",
   "execution_count": null,
   "metadata": {},
   "outputs": [],
   "source": [
    "# Let's see if we can group the AMO and PDO groups together for a better plot\n",
    "win_avg = win.groupby(['AMOb', 'PDOb']).mean()\n",
    "win_med = win.groupby(['AMOb', 'PDOb']).median()"
   ]
  },
  {
   "cell_type": "markdown",
   "metadata": {},
   "source": [
    "Since these ratios have a lot of values around 0, that creates anomolies that make this graph hard to look at. I'm going to try the difference in normalized values instead."
   ]
  },
  {
   "cell_type": "code",
   "execution_count": null,
   "metadata": {},
   "outputs": [],
   "source": [
    "#sns.scatterplot(win['ratio'], win['SNOW30'], color='red')\n",
    "# Let's try a 3D plot of AMO and PDO versus snowfall\n",
    "#fig = plt.figure()\n",
    "#ax = fig.add_subplot(111, projection='3d')\n",
    "#ax.scatter(win_avg['AMO'], win_avg['PDO'], win_avg['SNOW14'], c='red')\n",
    "#ax.scatter(win_med['AMO'], win_med['PDO'], win_med['SNOW14'], c='blue')"
   ]
  },
  {
   "cell_type": "markdown",
   "metadata": {},
   "source": [
    "Snowfall looks a little higher as we get away from 0; let's see the absolute difference."
   ]
  },
  {
   "cell_type": "markdown",
   "metadata": {},
   "source": [
    "These plots were OK, but I need to scale so that PDO doesn't dominate. "
   ]
  },
  {
   "cell_type": "code",
   "execution_count": 1,
   "metadata": {},
   "outputs": [],
   "source": [
    "#win_d = win.groupby(['MONTH','DAY']).mean()"
   ]
  },
  {
   "cell_type": "code",
   "execution_count": 2,
   "metadata": {},
   "outputs": [],
   "source": [
    "#win_d.head()"
   ]
  },
  {
   "cell_type": "markdown",
   "metadata": {},
   "source": [
    "This is very cool to see. Can we plot it?"
   ]
  },
  {
   "cell_type": "code",
   "execution_count": 3,
   "metadata": {},
   "outputs": [],
   "source": [
    "# plot for 7 day snowfall\n",
    "# https://www.quantopian.com/posts/plotting-multi-index-pandas-dataframe\n",
    "#win_d.SNOW7.unstack(level=0).plot(subplots=True, figsize=(15, 30), layout=(3, 2));"
   ]
  },
  {
   "cell_type": "code",
   "execution_count": 4,
   "metadata": {},
   "outputs": [],
   "source": [
    "# those were OK, but I would really like to see the season in one continuous stretch; let's looks at longer stretches\n",
    "# 14 day snowfall\n",
    "#win_d.SNOW14.unstack(level=0).plot(subplots=True, figsize=(15, 30), layout=(3, 2));"
   ]
  },
  {
   "cell_type": "code",
   "execution_count": 5,
   "metadata": {},
   "outputs": [],
   "source": [
    "# those were OK, but I would really like to see the season in one continuous stretch; let's try to resort\n",
    "#plt.plot(x=win_d['MONTH','DAY'], y=win_d['SNOW7']) layout=(10, 2)\n",
    "# https://www.quantopian.com/posts/plotting-multi-index-pandas-dataframe\n",
    "#win_d.SNOW30.unstack(level=0).plot(subplots=True, figsize=(15, 30), layout=(3, 2));"
   ]
  },
  {
   "cell_type": "code",
   "execution_count": 6,
   "metadata": {},
   "outputs": [],
   "source": [
    "#win_m = win.groupby(['MONTH','DAY']).median()\n",
    "#win_m = win.groupby(['MONTH','DAY']).median()"
   ]
  },
  {
   "cell_type": "code",
   "execution_count": 7,
   "metadata": {},
   "outputs": [],
   "source": [
    "#win_m.describe()"
   ]
  },
  {
   "cell_type": "code",
   "execution_count": 8,
   "metadata": {},
   "outputs": [],
   "source": [
    "# These stats look far less influenced by outliers. Let's she how the plot looks\n",
    "#win_m.SNOW7.unstack(level=0).plot(subplots=True, figsize=(15, 30), layout=(3, 2));"
   ]
  },
  {
   "cell_type": "code",
   "execution_count": 9,
   "metadata": {},
   "outputs": [],
   "source": [
    "# These stats look far less influenced by outliers. Let's she how the plot looks\n",
    "#win_m.SNOW14.unstack(level=0).plot(subplots=True, figsize=(15, 30), layout=(3, 2));"
   ]
  },
  {
   "cell_type": "code",
   "execution_count": 10,
   "metadata": {},
   "outputs": [],
   "source": [
    "# These stats look far less influenced by outliers. Let's she how the plot looks\n",
    "#win_m.SNOW30.unstack(level=0).plot(subplots=True, figsize=(15, 30), layout=(3, 2));"
   ]
  },
  {
   "cell_type": "markdown",
   "metadata": {},
   "source": [
    "There appears to be some trends throughout the season. I will try to plot this better so we could tease out some more elements from it."
   ]
  },
  {
   "cell_type": "code",
   "execution_count": null,
   "metadata": {},
   "outputs": [],
   "source": [
    "result = np.empty(len(win_415))\n",
    "for y in win_415['YEAR']:\n",
    "    \n",
    "    if win_415.iloc[i]['YEAR'] == win_220.iloc[i]['YEAR']:\n",
    "        if win_220['SNOW7'] >= win_415['SNOW7']:\n",
    "            result[i] = True\n",
    "        else:\n",
    "            result[i] = False\n",
    "result\n",
    "        "
   ]
  },
  {
   "cell_type": "code",
   "execution_count": null,
   "metadata": {},
   "outputs": [],
   "source": [
    "# let's see the 7-day plot\n",
    "plt.rcParams[\"figure.figsize\"] = (20,10)\n",
    "fig, ax = plt.subplots()\n",
    "plt.plot(win_mdc7_top.index, win_mdc7_top['PERC'], color='blue')\n",
    "every_nth = 10\n",
    "for n, label in enumerate(ax.xaxis.get_ticklabels()):\n",
    "    if n % every_nth != 0:\n",
    "        label.set_visible(False)\n",
    "plt.ylabel(\"Times that have exceeded 10in in 7-days\")\n",
    "plt.xlabel(\"Date\")"
   ]
  },
  {
   "cell_type": "code",
   "execution_count": null,
   "metadata": {},
   "outputs": [],
   "source": [
    "# remove ds becuase scalers don't like datetime\n",
    "ds = SNOW['ds']\n",
    "X = SNOW.drop(labels=['y', 'SNOW14', 'SNOW30', 'ds'], axis=1)"
   ]
  },
  {
   "cell_type": "code",
   "execution_count": null,
   "metadata": {},
   "outputs": [],
   "source": [
    "# let's create the standard scalar\n",
    "scaler = StandardScaler()\n",
    "scaler.fit(X)\n",
    "X_sc = scaler.transform(X)\n",
    "# that results in our scaled array, but I don't know that it's necessary for FB Prophet"
   ]
  }
 ],
 "metadata": {
  "kernelspec": {
   "display_name": "Python 3",
   "language": "python",
   "name": "python3"
  },
  "language_info": {
   "codemirror_mode": {
    "name": "ipython",
    "version": 3
   },
   "file_extension": ".py",
   "mimetype": "text/x-python",
   "name": "python",
   "nbconvert_exporter": "python",
   "pygments_lexer": "ipython3",
   "version": "3.7.6"
  }
 },
 "nbformat": 4,
 "nbformat_minor": 4
}
