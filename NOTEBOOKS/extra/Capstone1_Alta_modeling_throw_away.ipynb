{
 "cells": [
  {
   "cell_type": "code",
   "execution_count": null,
   "metadata": {},
   "outputs": [],
   "source": [
    "## this was trying to create a DF for forecasting when all we needed to do was use X7_test\n",
    "#set(dates[0][0]['ds']) ^ set(dates[0][1]['ds'])\n",
    "future['TMAX_7avg'] = X7_test[future['ds'] intersect X7_test['ds']]['TMAX_7avg']\n",
    "X7_test"
   ]
  },
  {
   "cell_type": "code",
   "execution_count": null,
   "metadata": {},
   "outputs": [],
   "source": [
    "## code to check for missing dates in the data sets\n",
    "# dates missing from X7_test in 2013-2014 winter\n",
    "#set(dates[0][0]['ds']) ^ set(dates[0][1]['ds'])\n",
    "# dates missing from X7_test in 2013-2014 winter\n",
    "#set(dates[1][0]['ds']) ^ set(dates[1][1]['ds'])\n",
    "# dates missing from X7_test in 2013-2014 winter\n",
    "#set(dates[2][0]['ds']) ^ set(dates[2][1]['ds'])"
   ]
  }
 ],
 "metadata": {
  "kernelspec": {
   "display_name": "Python 3",
   "language": "python",
   "name": "python3"
  },
  "language_info": {
   "codemirror_mode": {
    "name": "ipython",
    "version": 3
   },
   "file_extension": ".py",
   "mimetype": "text/x-python",
   "name": "python",
   "nbconvert_exporter": "python",
   "pygments_lexer": "ipython3",
   "version": "3.7.6"
  }
 },
 "nbformat": 4,
 "nbformat_minor": 4
}
