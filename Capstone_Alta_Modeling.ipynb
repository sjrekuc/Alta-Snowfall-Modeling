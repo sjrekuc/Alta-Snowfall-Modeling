{
 "cells": [
  {
   "cell_type": "markdown",
   "metadata": {},
   "source": [
    "I have the clean data from the previous step that includes:\n",
    "\n",
    "## X7\n",
    "ds: in datetime format <br>\n",
    "TMAX_7avg: 7 day average of max temperature <br>\n",
    "TMIN_7avg: 7 day average of min temperature <br>\n",
    "TOBS_7avg: 7-day average of observed temperature <br>\n",
    "PDO: pacific decadal oscillation; data given by the month but interpolated to the day <br>\n",
    "AMO: atlantic decadal oscillation; data measure by the month but interpolated to the day <br>\n",
    "PRCP: water equivalent (in) or precipitation (if all the snow was melted down to water) <br>\n",
    "y: 7-day snowfall total\n",
    "\n",
    "## X14\n",
    "ds: in datetime format <br>\n",
    "TMAX_14avg: 14-day average of max temperature <br>\n",
    "TMIN_14avg: 14-day average of min temperature <br>\n",
    "TOBS_14avg: 14-day average of observed temperature <br>\n",
    "PDO: pacific decadal oscillation; data given by the month but interpolated to the day <br>\n",
    "AMO: atlantic decadal oscillation; data measure by the month but interpolated to the day <br>\n",
    "PRCP: water equivalent (in) or precipitation (if all the snow was melted down to water) <br>\n",
    "y: 14-day snowfall total\n",
    "\n",
    "## X30\n",
    "ds: in datetime format <br>\n",
    "TMAX_30avg: 30-day average of max temperature <br>\n",
    "TMIN_30avg: 30-day average of min temperature <br>\n",
    "TOBS_30avg: 30-day average of observed temperature <br>\n",
    "PDO: pacific decadal oscillation; data given by the month but interpolated to the day <br>\n",
    "AMO: atlantic decadal oscillation; data measure by the month but interpolated to the day <br>\n",
    "PRCP: water equivalent (in) or precipitation (if all the snow was melted down to water) <br>\n",
    "y: 30-day snowfall total\n",
    "\n",
    "\n"
   ]
  },
  {
   "cell_type": "code",
   "execution_count": 1,
   "metadata": {},
   "outputs": [],
   "source": [
    "#load python packages\n",
    "import os\n",
    "import pandas as pd\n",
    "import datetime\n",
    "import seaborn as sns\n",
    "import matplotlib.pyplot as plt\n",
    "import numpy as np\n",
    "from sklearn.preprocessing import StandardScaler\n",
    "from mpl_toolkits.mplot3d import Axes3D\n",
    "import ppscore as pps\n",
    "from fbprophet import Prophet\n",
    "import featuretools as ft"
   ]
  },
  {
   "cell_type": "code",
   "execution_count": 2,
   "metadata": {},
   "outputs": [],
   "source": [
    "import pickle\n",
    "path=\"C:\\Springboard\\Github\\Capstone1_alta\\intermediate_data\"\n",
    "os.chdir(path)"
   ]
  },
  {
   "cell_type": "code",
   "execution_count": 3,
   "metadata": {},
   "outputs": [
    {
     "data": {
      "text/html": [
       "<div>\n",
       "<style scoped>\n",
       "    .dataframe tbody tr th:only-of-type {\n",
       "        vertical-align: middle;\n",
       "    }\n",
       "\n",
       "    .dataframe tbody tr th {\n",
       "        vertical-align: top;\n",
       "    }\n",
       "\n",
       "    .dataframe thead th {\n",
       "        text-align: right;\n",
       "    }\n",
       "</style>\n",
       "<table border=\"1\" class=\"dataframe\">\n",
       "  <thead>\n",
       "    <tr style=\"text-align: right;\">\n",
       "      <th></th>\n",
       "      <th>ds</th>\n",
       "      <th>TMAX_7avg</th>\n",
       "      <th>TMIN_7avg</th>\n",
       "      <th>TOBS_7avg</th>\n",
       "      <th>PDO</th>\n",
       "      <th>AMO</th>\n",
       "      <th>y</th>\n",
       "      <th>PRCP</th>\n",
       "    </tr>\n",
       "  </thead>\n",
       "  <tbody>\n",
       "    <tr>\n",
       "      <th>0</th>\n",
       "      <td>1944-11-21</td>\n",
       "      <td>36.736971</td>\n",
       "      <td>18.821202</td>\n",
       "      <td>26.551428</td>\n",
       "      <td>-0.48</td>\n",
       "      <td>0.272</td>\n",
       "      <td>0.0</td>\n",
       "      <td>0.00</td>\n",
       "    </tr>\n",
       "    <tr>\n",
       "      <th>1</th>\n",
       "      <td>1944-11-22</td>\n",
       "      <td>36.468501</td>\n",
       "      <td>18.626804</td>\n",
       "      <td>26.318706</td>\n",
       "      <td>-0.48</td>\n",
       "      <td>0.272</td>\n",
       "      <td>0.0</td>\n",
       "      <td>0.00</td>\n",
       "    </tr>\n",
       "    <tr>\n",
       "      <th>2</th>\n",
       "      <td>1944-11-23</td>\n",
       "      <td>35.907657</td>\n",
       "      <td>18.275119</td>\n",
       "      <td>25.773843</td>\n",
       "      <td>-0.48</td>\n",
       "      <td>0.272</td>\n",
       "      <td>0.0</td>\n",
       "      <td>0.00</td>\n",
       "    </tr>\n",
       "    <tr>\n",
       "      <th>3</th>\n",
       "      <td>1944-11-24</td>\n",
       "      <td>35.602554</td>\n",
       "      <td>17.895432</td>\n",
       "      <td>25.561157</td>\n",
       "      <td>-0.48</td>\n",
       "      <td>0.272</td>\n",
       "      <td>0.0</td>\n",
       "      <td>0.82</td>\n",
       "    </tr>\n",
       "    <tr>\n",
       "      <th>4</th>\n",
       "      <td>1944-11-25</td>\n",
       "      <td>35.568962</td>\n",
       "      <td>17.693867</td>\n",
       "      <td>25.509994</td>\n",
       "      <td>-0.48</td>\n",
       "      <td>0.272</td>\n",
       "      <td>0.0</td>\n",
       "      <td>0.06</td>\n",
       "    </tr>\n",
       "  </tbody>\n",
       "</table>\n",
       "</div>"
      ],
      "text/plain": [
       "          ds  TMAX_7avg  TMIN_7avg  TOBS_7avg   PDO    AMO    y  PRCP\n",
       "0 1944-11-21  36.736971  18.821202  26.551428 -0.48  0.272  0.0  0.00\n",
       "1 1944-11-22  36.468501  18.626804  26.318706 -0.48  0.272  0.0  0.00\n",
       "2 1944-11-23  35.907657  18.275119  25.773843 -0.48  0.272  0.0  0.00\n",
       "3 1944-11-24  35.602554  17.895432  25.561157 -0.48  0.272  0.0  0.82\n",
       "4 1944-11-25  35.568962  17.693867  25.509994 -0.48  0.272  0.0  0.06"
      ]
     },
     "execution_count": 3,
     "metadata": {},
     "output_type": "execute_result"
    }
   ],
   "source": [
    "X7 = pickle.load(open(\"X7_snow_pp.pkl\", \"rb\"))\n",
    "X7.head()"
   ]
  },
  {
   "cell_type": "code",
   "execution_count": 4,
   "metadata": {},
   "outputs": [
    {
     "data": {
      "text/html": [
       "<div>\n",
       "<style scoped>\n",
       "    .dataframe tbody tr th:only-of-type {\n",
       "        vertical-align: middle;\n",
       "    }\n",
       "\n",
       "    .dataframe tbody tr th {\n",
       "        vertical-align: top;\n",
       "    }\n",
       "\n",
       "    .dataframe thead th {\n",
       "        text-align: right;\n",
       "    }\n",
       "</style>\n",
       "<table border=\"1\" class=\"dataframe\">\n",
       "  <thead>\n",
       "    <tr style=\"text-align: right;\">\n",
       "      <th></th>\n",
       "      <th>ds</th>\n",
       "      <th>TMAX_14avg</th>\n",
       "      <th>TMIN_14avg</th>\n",
       "      <th>TOBS_14avg</th>\n",
       "      <th>PDO</th>\n",
       "      <th>AMO</th>\n",
       "      <th>y</th>\n",
       "      <th>PRCP</th>\n",
       "    </tr>\n",
       "  </thead>\n",
       "  <tbody>\n",
       "    <tr>\n",
       "      <th>21798</th>\n",
       "      <td>2020-05-06</td>\n",
       "      <td>52.000000</td>\n",
       "      <td>34.357143</td>\n",
       "      <td>46.500000</td>\n",
       "      <td>-0.760000</td>\n",
       "      <td>0.290200</td>\n",
       "      <td>2.5</td>\n",
       "      <td>0.00</td>\n",
       "    </tr>\n",
       "    <tr>\n",
       "      <th>21799</th>\n",
       "      <td>2020-05-07</td>\n",
       "      <td>52.642857</td>\n",
       "      <td>33.857143</td>\n",
       "      <td>46.785714</td>\n",
       "      <td>-0.733333</td>\n",
       "      <td>0.286733</td>\n",
       "      <td>2.0</td>\n",
       "      <td>0.00</td>\n",
       "    </tr>\n",
       "    <tr>\n",
       "      <th>21800</th>\n",
       "      <td>2020-05-08</td>\n",
       "      <td>53.357143</td>\n",
       "      <td>34.000000</td>\n",
       "      <td>47.500000</td>\n",
       "      <td>-0.706667</td>\n",
       "      <td>0.283267</td>\n",
       "      <td>0.4</td>\n",
       "      <td>0.00</td>\n",
       "    </tr>\n",
       "    <tr>\n",
       "      <th>21801</th>\n",
       "      <td>2020-05-09</td>\n",
       "      <td>53.714286</td>\n",
       "      <td>33.785714</td>\n",
       "      <td>47.928571</td>\n",
       "      <td>-0.680000</td>\n",
       "      <td>0.279800</td>\n",
       "      <td>0.4</td>\n",
       "      <td>0.00</td>\n",
       "    </tr>\n",
       "    <tr>\n",
       "      <th>21802</th>\n",
       "      <td>2020-05-10</td>\n",
       "      <td>54.357143</td>\n",
       "      <td>33.500000</td>\n",
       "      <td>48.285714</td>\n",
       "      <td>-0.653333</td>\n",
       "      <td>0.276333</td>\n",
       "      <td>0.4</td>\n",
       "      <td>0.00</td>\n",
       "    </tr>\n",
       "    <tr>\n",
       "      <th>21803</th>\n",
       "      <td>2020-05-11</td>\n",
       "      <td>54.642857</td>\n",
       "      <td>33.785714</td>\n",
       "      <td>49.000000</td>\n",
       "      <td>-0.626667</td>\n",
       "      <td>0.272867</td>\n",
       "      <td>0.4</td>\n",
       "      <td>0.00</td>\n",
       "    </tr>\n",
       "    <tr>\n",
       "      <th>21804</th>\n",
       "      <td>2020-05-12</td>\n",
       "      <td>55.071429</td>\n",
       "      <td>34.285714</td>\n",
       "      <td>49.142857</td>\n",
       "      <td>-0.600000</td>\n",
       "      <td>0.269400</td>\n",
       "      <td>0.4</td>\n",
       "      <td>0.00</td>\n",
       "    </tr>\n",
       "    <tr>\n",
       "      <th>21805</th>\n",
       "      <td>2020-05-13</td>\n",
       "      <td>54.357143</td>\n",
       "      <td>34.071429</td>\n",
       "      <td>48.142857</td>\n",
       "      <td>-0.573333</td>\n",
       "      <td>0.265933</td>\n",
       "      <td>0.4</td>\n",
       "      <td>0.01</td>\n",
       "    </tr>\n",
       "    <tr>\n",
       "      <th>21806</th>\n",
       "      <td>2020-05-14</td>\n",
       "      <td>53.357143</td>\n",
       "      <td>33.214286</td>\n",
       "      <td>48.142857</td>\n",
       "      <td>-0.546667</td>\n",
       "      <td>0.262467</td>\n",
       "      <td>0.4</td>\n",
       "      <td>0.00</td>\n",
       "    </tr>\n",
       "    <tr>\n",
       "      <th>21807</th>\n",
       "      <td>2020-05-15</td>\n",
       "      <td>52.500000</td>\n",
       "      <td>32.928571</td>\n",
       "      <td>48.428571</td>\n",
       "      <td>-0.520000</td>\n",
       "      <td>0.259000</td>\n",
       "      <td>0.4</td>\n",
       "      <td>0.00</td>\n",
       "    </tr>\n",
       "  </tbody>\n",
       "</table>\n",
       "</div>"
      ],
      "text/plain": [
       "              ds  TMAX_14avg  TMIN_14avg  TOBS_14avg       PDO       AMO    y  \\\n",
       "21798 2020-05-06   52.000000   34.357143   46.500000 -0.760000  0.290200  2.5   \n",
       "21799 2020-05-07   52.642857   33.857143   46.785714 -0.733333  0.286733  2.0   \n",
       "21800 2020-05-08   53.357143   34.000000   47.500000 -0.706667  0.283267  0.4   \n",
       "21801 2020-05-09   53.714286   33.785714   47.928571 -0.680000  0.279800  0.4   \n",
       "21802 2020-05-10   54.357143   33.500000   48.285714 -0.653333  0.276333  0.4   \n",
       "21803 2020-05-11   54.642857   33.785714   49.000000 -0.626667  0.272867  0.4   \n",
       "21804 2020-05-12   55.071429   34.285714   49.142857 -0.600000  0.269400  0.4   \n",
       "21805 2020-05-13   54.357143   34.071429   48.142857 -0.573333  0.265933  0.4   \n",
       "21806 2020-05-14   53.357143   33.214286   48.142857 -0.546667  0.262467  0.4   \n",
       "21807 2020-05-15   52.500000   32.928571   48.428571 -0.520000  0.259000  0.4   \n",
       "\n",
       "       PRCP  \n",
       "21798  0.00  \n",
       "21799  0.00  \n",
       "21800  0.00  \n",
       "21801  0.00  \n",
       "21802  0.00  \n",
       "21803  0.00  \n",
       "21804  0.00  \n",
       "21805  0.01  \n",
       "21806  0.00  \n",
       "21807  0.00  "
      ]
     },
     "execution_count": 4,
     "metadata": {},
     "output_type": "execute_result"
    }
   ],
   "source": [
    "X14 = pickle.load(open(\"X14_snow_pp.pkl\", \"rb\"))\n",
    "X14.tail(10)"
   ]
  },
  {
   "cell_type": "code",
   "execution_count": 5,
   "metadata": {},
   "outputs": [
    {
     "data": {
      "text/html": [
       "<div>\n",
       "<style scoped>\n",
       "    .dataframe tbody tr th:only-of-type {\n",
       "        vertical-align: middle;\n",
       "    }\n",
       "\n",
       "    .dataframe tbody tr th {\n",
       "        vertical-align: top;\n",
       "    }\n",
       "\n",
       "    .dataframe thead th {\n",
       "        text-align: right;\n",
       "    }\n",
       "</style>\n",
       "<table border=\"1\" class=\"dataframe\">\n",
       "  <thead>\n",
       "    <tr style=\"text-align: right;\">\n",
       "      <th></th>\n",
       "      <th>ds</th>\n",
       "      <th>TMAX_30avg</th>\n",
       "      <th>TMIN_30avg</th>\n",
       "      <th>TOBS_30avg</th>\n",
       "      <th>PDO</th>\n",
       "      <th>AMO</th>\n",
       "      <th>y</th>\n",
       "      <th>PRCP</th>\n",
       "    </tr>\n",
       "  </thead>\n",
       "  <tbody>\n",
       "    <tr>\n",
       "      <th>21798</th>\n",
       "      <td>2020-05-06</td>\n",
       "      <td>45.333333</td>\n",
       "      <td>28.266667</td>\n",
       "      <td>40.466667</td>\n",
       "      <td>-0.760000</td>\n",
       "      <td>0.290200</td>\n",
       "      <td>18.8</td>\n",
       "      <td>0.00</td>\n",
       "    </tr>\n",
       "    <tr>\n",
       "      <th>21799</th>\n",
       "      <td>2020-05-07</td>\n",
       "      <td>45.566667</td>\n",
       "      <td>28.033333</td>\n",
       "      <td>40.466667</td>\n",
       "      <td>-0.733333</td>\n",
       "      <td>0.286733</td>\n",
       "      <td>18.2</td>\n",
       "      <td>0.00</td>\n",
       "    </tr>\n",
       "    <tr>\n",
       "      <th>21800</th>\n",
       "      <td>2020-05-08</td>\n",
       "      <td>45.533333</td>\n",
       "      <td>27.966667</td>\n",
       "      <td>40.466667</td>\n",
       "      <td>-0.706667</td>\n",
       "      <td>0.283267</td>\n",
       "      <td>18.2</td>\n",
       "      <td>0.00</td>\n",
       "    </tr>\n",
       "    <tr>\n",
       "      <th>21801</th>\n",
       "      <td>2020-05-09</td>\n",
       "      <td>45.600000</td>\n",
       "      <td>27.833333</td>\n",
       "      <td>40.900000</td>\n",
       "      <td>-0.680000</td>\n",
       "      <td>0.279800</td>\n",
       "      <td>18.2</td>\n",
       "      <td>0.00</td>\n",
       "    </tr>\n",
       "    <tr>\n",
       "      <th>21802</th>\n",
       "      <td>2020-05-10</td>\n",
       "      <td>46.200000</td>\n",
       "      <td>28.100000</td>\n",
       "      <td>41.400000</td>\n",
       "      <td>-0.653333</td>\n",
       "      <td>0.276333</td>\n",
       "      <td>18.2</td>\n",
       "      <td>0.00</td>\n",
       "    </tr>\n",
       "    <tr>\n",
       "      <th>21803</th>\n",
       "      <td>2020-05-11</td>\n",
       "      <td>46.833333</td>\n",
       "      <td>28.533333</td>\n",
       "      <td>42.233333</td>\n",
       "      <td>-0.626667</td>\n",
       "      <td>0.272867</td>\n",
       "      <td>18.2</td>\n",
       "      <td>0.00</td>\n",
       "    </tr>\n",
       "    <tr>\n",
       "      <th>21804</th>\n",
       "      <td>2020-05-12</td>\n",
       "      <td>47.600000</td>\n",
       "      <td>29.333333</td>\n",
       "      <td>43.166667</td>\n",
       "      <td>-0.600000</td>\n",
       "      <td>0.269400</td>\n",
       "      <td>17.0</td>\n",
       "      <td>0.00</td>\n",
       "    </tr>\n",
       "    <tr>\n",
       "      <th>21805</th>\n",
       "      <td>2020-05-13</td>\n",
       "      <td>48.533333</td>\n",
       "      <td>30.000000</td>\n",
       "      <td>44.033333</td>\n",
       "      <td>-0.573333</td>\n",
       "      <td>0.265933</td>\n",
       "      <td>15.3</td>\n",
       "      <td>0.01</td>\n",
       "    </tr>\n",
       "    <tr>\n",
       "      <th>21806</th>\n",
       "      <td>2020-05-14</td>\n",
       "      <td>49.066667</td>\n",
       "      <td>30.800000</td>\n",
       "      <td>44.566667</td>\n",
       "      <td>-0.546667</td>\n",
       "      <td>0.262467</td>\n",
       "      <td>15.3</td>\n",
       "      <td>0.00</td>\n",
       "    </tr>\n",
       "    <tr>\n",
       "      <th>21807</th>\n",
       "      <td>2020-05-15</td>\n",
       "      <td>49.566667</td>\n",
       "      <td>31.166667</td>\n",
       "      <td>45.066667</td>\n",
       "      <td>-0.520000</td>\n",
       "      <td>0.259000</td>\n",
       "      <td>12.5</td>\n",
       "      <td>0.00</td>\n",
       "    </tr>\n",
       "  </tbody>\n",
       "</table>\n",
       "</div>"
      ],
      "text/plain": [
       "              ds  TMAX_30avg  TMIN_30avg  TOBS_30avg       PDO       AMO  \\\n",
       "21798 2020-05-06   45.333333   28.266667   40.466667 -0.760000  0.290200   \n",
       "21799 2020-05-07   45.566667   28.033333   40.466667 -0.733333  0.286733   \n",
       "21800 2020-05-08   45.533333   27.966667   40.466667 -0.706667  0.283267   \n",
       "21801 2020-05-09   45.600000   27.833333   40.900000 -0.680000  0.279800   \n",
       "21802 2020-05-10   46.200000   28.100000   41.400000 -0.653333  0.276333   \n",
       "21803 2020-05-11   46.833333   28.533333   42.233333 -0.626667  0.272867   \n",
       "21804 2020-05-12   47.600000   29.333333   43.166667 -0.600000  0.269400   \n",
       "21805 2020-05-13   48.533333   30.000000   44.033333 -0.573333  0.265933   \n",
       "21806 2020-05-14   49.066667   30.800000   44.566667 -0.546667  0.262467   \n",
       "21807 2020-05-15   49.566667   31.166667   45.066667 -0.520000  0.259000   \n",
       "\n",
       "          y  PRCP  \n",
       "21798  18.8  0.00  \n",
       "21799  18.2  0.00  \n",
       "21800  18.2  0.00  \n",
       "21801  18.2  0.00  \n",
       "21802  18.2  0.00  \n",
       "21803  18.2  0.00  \n",
       "21804  17.0  0.00  \n",
       "21805  15.3  0.01  \n",
       "21806  15.3  0.00  \n",
       "21807  12.5  0.00  "
      ]
     },
     "execution_count": 5,
     "metadata": {},
     "output_type": "execute_result"
    }
   ],
   "source": [
    "X30 = pickle.load(open(\"X30_snow_pp.pkl\", \"rb\"))\n",
    "X30.tail(10)"
   ]
  },
  {
   "cell_type": "markdown",
   "metadata": {},
   "source": [
    "I was going to run deep feature sythesis on this to create more possible features, but that doesn't seem to work. Instead I will just run FB Prophet and see if I can come back to this step after I finish with more time series modeling. "
   ]
  },
  {
   "cell_type": "code",
   "execution_count": 6,
   "metadata": {},
   "outputs": [],
   "source": [
    "# create a new entity set in featuretools\n",
    "#es7 = ft.EntitySet(id='X7')\n",
    "# This dataframe already has an index and a time index\n",
    "#es7 = es7.entity_from_dataframe(entity_id = 'X7', dataframe = X7, time_index = 'ds')\n",
    "\n",
    "# Run deep feature synthesis with transformation primitives\n",
    "#feature7_matrix, feature7_defs = ft.dfs(entityset = es7, target_entity = 'y')\n",
    "\n",
    "#feature7_matrix.head()\n",
    "\n",
    "\n",
    "# I'm going to save this feature tools until I understand it a little better and just run FB Prophet\n",
    "# https://stackoverflow.com/questions/52418152/featuretools-can-it-be-applied-on-a-single-table-to-generate-features-even-when\n",
    "# https://docs.featuretools.com/en/stable/automated_feature_engineering/afe.html\n",
    "# https://docs.featuretools.com/en/stable/api_reference.html#feature-encoding\n",
    "# https://docs.featuretools.com/en/stable/loading_data/using_entitysets.html\n",
    "# https://docs.featuretools.com/en/stable/automated_feature_engineering/handling_time.html\n",
    "# https://towardsdatascience.com/automated-feature-engineering-in-python-99baf11cc219"
   ]
  },
  {
   "cell_type": "code",
   "execution_count": 7,
   "metadata": {},
   "outputs": [],
   "source": [
    "# slice off the last year of the X7 df to save to calculate error - may need to use boolean logic to extract these rows.\n",
    "year = 2018\n",
    "# split date between test and train data set\n",
    "split_date = str(year) + '-11-14'\n",
    "# end date of the test set\n",
    "end_date = str(year+1) + '-04-15'\n",
    "train = X7['ds'] <= split_date\n",
    "X7_train = X7.loc[train]\n",
    "# data set from the split until the end of data keeping\n",
    "X7_long = X7.loc[~train]\n",
    "# shorten this data for just the next winter\n",
    "X7_test = X7_long[X7_long['ds'] <= end_date]"
   ]
  },
  {
   "cell_type": "code",
   "execution_count": 8,
   "metadata": {},
   "outputs": [
    {
     "data": {
      "image/png": "[encoded data removed]",
      "text/plain": [
       "<Figure size 648x432 with 2 Axes>"
      ]
     },
     "execution_count": 8,
     "metadata": {},
     "output_type": "execute_result"
    },
    {
     "data": {
      "image/png": "[encoded data removed]",
      "text/plain": [
       "<Figure size 648x432 with 2 Axes>"
      ]
     },
     "metadata": {},
     "output_type": "display_data"
    }
   ],
   "source": [
    "# let's take a better look at this with FB's Prophet - not considering any other regressors\n",
    "from fbprophet import Prophet\n",
    "m_fb = Prophet(yearly_seasonality = True, daily_seasonality=False, weekly_seasonality=False)\n",
    "m_fb.fit(X7_train)\n",
    "future = m_fb.make_future_dataframe(periods=365)\n",
    "forecast = m_fb.predict(future)\n",
    "m_fb.plot_components(forecast)"
   ]
  },
  {
   "cell_type": "code",
   "execution_count": 9,
   "metadata": {
    "scrolled": true
   },
   "outputs": [],
   "source": [
    "compare = forecast[(forecast['ds'] <= end_date) & (forecast['ds'] > split_date)]"
   ]
  },
  {
   "cell_type": "code",
   "execution_count": 10,
   "metadata": {
    "scrolled": true
   },
   "outputs": [],
   "source": [
    "# calculate mean squared error\n",
    "from sklearn.metrics import mean_squared_error\n",
    "MSE = mean_squared_error(X7_test['y'],compare['yhat'])"
   ]
  },
  {
   "cell_type": "code",
   "execution_count": 11,
   "metadata": {},
   "outputs": [
    {
     "data": {
      "text/plain": [
       "208.8991323286658"
      ]
     },
     "execution_count": 11,
     "metadata": {},
     "output_type": "execute_result"
    }
   ],
   "source": [
    "MSE # for the whole winter November 15 to April 15"
   ]
  },
  {
   "cell_type": "markdown",
   "metadata": {},
   "source": [
    "now, I need to write code that would do the same thing, but in a loop - taking different slices of the X7 dataframe and calculating the error for each slice"
   ]
  },
  {
   "cell_type": "code",
   "execution_count": 12,
   "metadata": {},
   "outputs": [
    {
     "name": "stdout",
     "output_type": "stream",
     "text": [
      "2013 (152,) (147,)\n",
      "2014 (152,) (146,)\n",
      "2015 (153,) (152,)\n",
      "2016 (152,) (152,)\n",
      "2017 (152,) (152,)\n",
      "2018 (152,) (152,)\n",
      "[]\n"
     ]
    }
   ],
   "source": [
    "# function - takes in dataframe to model and test (November 15 - April 15)\n",
    "\n",
    "\n",
    "# manual loop for calculating error year by year\n",
    "MSE7 = []\n",
    "dates = []\n",
    "\n",
    "for yr in range(2013,2019):\n",
    "    # split date between test and train data set\n",
    "    split_date = str(yr) + '-11-14'\n",
    "    # end date of the test set\n",
    "    end_date = str(yr+1) + '-04-15'\n",
    "    # takes all of the data before the split date\n",
    "    X7_train = X7[X7['ds'] <= split_date]\n",
    "    # data set from the split through the next winter\n",
    "    X7_test = X7[(X7['ds'] <= end_date) & (X7['ds'] > split_date)]\n",
    "    \n",
    "    # model based on the training data set\n",
    "    m_fb = Prophet(yearly_seasonality = True, daily_seasonality=False, weekly_seasonality=False)\n",
    "    m_fb.fit(X7_train)\n",
    "    # predicts for 1 year based on that model\n",
    "    future = m_fb.make_future_dataframe(periods=365)\n",
    "    forecast = m_fb.predict(future)\n",
    "    \n",
    "    # split out that last winter from the prediction set\n",
    "    compare = forecast[(forecast['ds'] <= end_date) & (forecast['ds'] > split_date)]\n",
    "    # calculate the mean squared error\n",
    "    #MSE = mean_squared_error(X7_test['y'],compare['yhat'])\n",
    "    print(yr, compare['yhat'].shape, X7_test['y'].shape)\n",
    "    dates.append([compare, X7_test])\n",
    "    \n",
    "    \n",
    "    # append the mean squared error to the list\n",
    "    #MSE7.append(MSE)\n",
    "\n",
    "\n",
    "# print the resulting MSE\n",
    "print(MSE7)\n"
   ]
  },
  {
   "cell_type": "code",
   "execution_count": 19,
   "metadata": {},
   "outputs": [
    {
     "data": {
      "text/plain": [
       "{Timestamp('2013-11-21 00:00:00'),\n",
       " Timestamp('2013-12-18 00:00:00'),\n",
       " Timestamp('2014-01-11 00:00:00'),\n",
       " Timestamp('2014-03-24 00:00:00'),\n",
       " Timestamp('2014-04-04 00:00:00')}"
      ]
     },
     "execution_count": 19,
     "metadata": {},
     "output_type": "execute_result"
    }
   ],
   "source": [
    "# dates missing from X7_test in 2013-2014 winter\n",
    "set(dates[0][0]['ds']) ^ set(dates[0][1]['ds'])"
   ]
  },
  {
   "cell_type": "code",
   "execution_count": 20,
   "metadata": {
    "scrolled": true
   },
   "outputs": [
    {
     "data": {
      "text/plain": [
       "{Timestamp('2015-01-14 00:00:00'),\n",
       " Timestamp('2015-02-13 00:00:00'),\n",
       " Timestamp('2015-02-16 00:00:00'),\n",
       " Timestamp('2015-02-17 00:00:00'),\n",
       " Timestamp('2015-03-12 00:00:00'),\n",
       " Timestamp('2015-03-26 00:00:00')}"
      ]
     },
     "execution_count": 20,
     "metadata": {},
     "output_type": "execute_result"
    }
   ],
   "source": [
    "# dates missing from X7_test in 2013-2014 winter\n",
    "set(dates[1][0]['ds']) ^ set(dates[1][1]['ds'])"
   ]
  },
  {
   "cell_type": "code",
   "execution_count": 21,
   "metadata": {},
   "outputs": [
    {
     "data": {
      "text/plain": [
       "{Timestamp('2015-12-02 00:00:00')}"
      ]
     },
     "execution_count": 21,
     "metadata": {},
     "output_type": "execute_result"
    }
   ],
   "source": [
    "# dates missing from X7_test in 2013-2014 winter\n",
    "set(dates[2][0]['ds']) ^ set(dates[2][1]['ds'])"
   ]
  },
  {
   "cell_type": "code",
   "execution_count": null,
   "metadata": {},
   "outputs": [],
   "source": []
  }
 ],
 "metadata": {
  "kernelspec": {
   "display_name": "Python 3",
   "language": "python",
   "name": "python3"
  },
  "language_info": {
   "codemirror_mode": {
    "name": "ipython",
    "version": 3
   },
   "file_extension": ".py",
   "mimetype": "text/x-python",
   "name": "python",
   "nbconvert_exporter": "python",
   "pygments_lexer": "ipython3",
   "version": "3.7.6"
  }
 },
 "nbformat": 4,
 "nbformat_minor": 4
}
